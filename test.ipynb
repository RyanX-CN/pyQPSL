{
 "cells": [
  {
   "cell_type": "code",
   "execution_count": 5,
   "metadata": {},
   "outputs": [
    {
     "name": "stdout",
     "output_type": "stream",
     "text": [
      "[3, 3, 1, 3, 4, 0, 3, 3, 1, 0, 3, 2, 2, 2, 3, 4, 4, 2, 3, 2, 2, 2, 3, 3, 4, 0, 2, 4, 2, 2, 0, 3, 2, 0, 0, 1, 2, 0, 2, 3, 3, 2, 4, 1, 1, 2, 1, 1, 0, 0]\n"
     ]
    }
   ],
   "source": [
    "import numpy as np\n",
    "\n",
    "# arr = np.random.randint(0,5,50,dtype=np.uint16)\n",
    "# np.save(\"resources/wave.npy\",arr)\n",
    "arr = np.load(\"resources/wave.npy\").tolist()\n",
    "print(arr)"
   ]
  }
 ],
 "metadata": {
  "kernelspec": {
   "display_name": "pyQPSL",
   "language": "python",
   "name": "python3"
  },
  "language_info": {
   "codemirror_mode": {
    "name": "ipython",
    "version": 3
   },
   "file_extension": ".py",
   "mimetype": "text/x-python",
   "name": "python",
   "nbconvert_exporter": "python",
   "pygments_lexer": "ipython3",
   "version": "3.8.19"
  }
 },
 "nbformat": 4,
 "nbformat_minor": 2
}
